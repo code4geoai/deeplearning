{
 "cells": [
  {
   "cell_type": "markdown",
   "id": "2955ddb3",
   "metadata": {},
   "source": [
    "# Debiasing Facial Detection System\n",
    "This lab is about removing the biase from the facial detection system. Lets get started."
   ]
  },
  {
   "cell_type": "markdown",
   "id": "0183eeff",
   "metadata": {},
   "source": [
    "# 1 Imports"
   ]
  },
  {
   "cell_type": "code",
   "execution_count": 1,
   "id": "5669165c",
   "metadata": {},
   "outputs": [],
   "source": [
    "#1 Imports\n",
    "\n",
    "import os\n",
    "import random\n",
    "import IPython\n",
    "import functools\n",
    "import numpy as np\n",
    "import matplotlib.pyplot as plt\n",
    "from pathlib import Path\n",
    "\n",
    "\n",
    "# import torch\n",
    "import torch\n",
    "import torch.nn as nn\n",
    "import torch.optim as optim\n",
    "import torch.nn.functional as F\n",
    "from torch.backends import cudnn\n",
    "\n",
    "\n",
    "#import mit\n",
    "import mitdeeplearning as mdl"
   ]
  },
  {
   "cell_type": "markdown",
   "id": "1080e175",
   "metadata": {},
   "source": [
    "# 2 Datasets\n",
    "- 3 different datasets are used.\n",
    "- - Positive: CelebA Dataset: Celebrity Faces\n",
    "- - Negative: ImageNet : Not faces\n",
    "- - Fitzpatrick Scale : Skin Type Classification \n"
   ]
  },
  {
   "cell_type": "code",
   "execution_count": 2,
   "id": "c4940e34",
   "metadata": {},
   "outputs": [
    {
     "name": "stdout",
     "output_type": "stream",
     "text": [
      "Path : d:\\DL_Repos\\introtodeeplearning\\HayatLabs\\.cache\\mitdeeplearning\n",
      "Path to training data: d:\\DL_Repos\\introtodeeplearning\\HayatLabs\\.cache\\mitdeeplearning\\train_face.h5\n",
      "Using Cache Data : d:\\DL_Repos\\introtodeeplearning\\HayatLabs\\.cache\\mitdeeplearning\\train_face.h5\n"
     ]
    }
   ],
   "source": [
    "# Downloading the dataset\n",
    "CACHE_DIR = Path.cwd() /\".cache\" / \"mitdeeplearning\"\n",
    "CACHE_DIR.mkdir(parents = True, exist_ok = True)\n",
    "print (f\"Path : {CACHE_DIR}\")\n",
    "\n",
    "#Get the training data from both  datasets\n",
    "path_to_training_data = CACHE_DIR.joinpath(\"train_face.h5\")\n",
    "print (f\"Path to training data: {path_to_training_data}\")\n",
    "\n",
    "\n",
    "#Create a simple check to avoid re-downloading the dataset\n",
    "if path_to_training_data.is_file():\n",
    "    print(f\"Using Cache Data : {path_to_training_data}\")\n",
    "else:\n",
    "    print(f\"Downloading dataset to {path_to_training_data} \")\n",
    "    url = \"https://www.dropbox.com/s/hlz8atheyozp1yx/train_face.h5?dl=1\"\n",
    "    torch.hub.download_url_to_file(url, path_to_training_data)\n",
    "\n"
   ]
  },
  {
   "cell_type": "code",
   "execution_count": 3,
   "id": "e737fbde",
   "metadata": {},
   "outputs": [
    {
     "name": "stdout",
     "output_type": "stream",
     "text": [
      "Opening d:\\DL_Repos\\introtodeeplearning\\HayatLabs\\.cache\\mitdeeplearning\\train_face.h5\n",
      "Loading data into memory...\n"
     ]
    }
   ],
   "source": [
    "# Institate a Training DataSetLoader using the downloaded dataset\n",
    "channels_last = False\n",
    "loader = mdl.lab2.TrainingDatasetLoader(path_to_training_data,channels_last=channels_last)\n",
    "\n",
    "number_of_training_examples = loader.get_train_size()\n",
    "(images, labels) = loader.get_batch(100) # it give us numpay array of images and labels"
   ]
  },
  {
   "cell_type": "code",
   "execution_count": 4,
   "id": "3ae9d726",
   "metadata": {},
   "outputs": [
    {
     "name": "stdout",
     "output_type": "stream",
     "text": [
      "Batch Size: 100, Channels: 3, Height: 64, Width: 64\n"
     ]
    }
   ],
   "source": [
    "B, C, H, W = images.shape\n",
    "print(f\"Batch Size: {B}, Channels: {C}, Height: {H}, Width: {W}\")"
   ]
  },
  {
   "cell_type": "code",
   "execution_count": 5,
   "id": "c9fefb76",
   "metadata": {},
   "outputs": [
    {
     "data": {
      "application/vnd.jupyter.widget-view+json": {
       "model_id": "9f3e67a7b27a404a8c15ead8dbe86dfe",
       "version_major": 2,
       "version_minor": 0
      },
      "text/plain": [
       "interactive(children=(IntSlider(value=0, description='idx_face', max=49), IntSlider(value=0, description='idx_…"
      ]
     },
     "metadata": {},
     "output_type": "display_data"
    },
    {
     "data": {
      "text/plain": [
       "<function __main__.show_images(idx_face=0, idx_not_face=0)>"
      ]
     },
     "execution_count": 5,
     "metadata": {},
     "output_type": "execute_result"
    }
   ],
   "source": [
    "import ipywidgets as widgets\n",
    "from IPython.display import display\n",
    "\n",
    "# Examining the dataset\n",
    "def show_images(idx_face=0, idx_not_face=0):\n",
    "    face_images = images[np.where(labels==1)[0]].transpose(0,2,3,1)\n",
    "    not_faces_images = images[np.where(labels==0)[0]].transpose(0,2,3,1)\n",
    "\n",
    "    plt.figure(figsize=(5,5))\n",
    "    plt.subplot(1,2,1)\n",
    "    plt.imshow(face_images[idx_face])\n",
    "    plt.title(\"Face\")\n",
    "    plt.grid(False)\n",
    "\n",
    "    plt.subplot(1,2,2)\n",
    "    plt.imshow(not_faces_images[idx_not_face])\n",
    "    plt.title(\"Not Face\")\n",
    "    plt.grid(False)\n",
    "    \n",
    "    plt.show()\n",
    "\n",
    "widgets.interact(show_images, idx_face=(0, 49), idx_not_face=(0, 49))"
   ]
  },
  {
   "cell_type": "code",
   "execution_count": 6,
   "id": "7db1dc73",
   "metadata": {},
   "outputs": [
    {
     "name": "stdout",
     "output_type": "stream",
     "text": [
      "<class 'numpy.ndarray'>\n",
      "<class 'numpy.ndarray'>\n",
      "Images shape: (100, 3, 64, 64)\n"
     ]
    }
   ],
   "source": [
    "# To confirm that loader give us numpy array\n",
    "#(images, labels) = loader.get_batch(100)\n",
    "print(type(images))\n",
    "print(type(labels))\n",
    "print(f\"Images shape: {images.shape}\" )            "
   ]
  },
  {
   "cell_type": "code",
   "execution_count": null,
   "id": "46735d46",
   "metadata": {},
   "outputs": [
    {
     "name": "stdout",
     "output_type": "stream",
     "text": [
      "Exploring h5 dataset\n",
      "Number of Folders in h5: 2\n",
      "Names of folders : ['images', 'labels']\n",
      "Dataset Name: images\n",
      "Shape: (109914, 64, 64, 3) \n",
      "Data Type: uint8\n",
      "Dataset Name: labels\n",
      "Shape: (109914, 1) \n",
      "Data Type: uint8\n"
     ]
    }
   ],
   "source": [
    "# Import h5py library to explore HDF5 file metadata\n",
    "import h5py\n",
    "with h5py.File (path_to_training_data, 'r') as f:\n",
    "    print(f\"Exploring h5 dataset\")\n",
    "    print(f\"Number of Folders in h5: {len(f.keys())}\")\n",
    "    print(f\"Names of folders : {list(f.keys())}\")\n",
    "    for k in f.keys():\n",
    "        dataset = f[k]\n",
    "        print(f\"Dataset Name: {k}\")\n",
    "        print(f\"Shape: {dataset.shape} \")\n",
    "        print(f\"Data Type: {dataset.dtype}\")    "
   ]
  },
  {
   "cell_type": "code",
   "execution_count": null,
   "id": "9836de5c",
   "metadata": {},
   "outputs": [],
   "source": [
    "# Display one image from the dataset directly\n",
    "\n",
    "with h5py.File(path_to_training_data, 'r') as f:\n",
    "    for k in f.keys():\n",
    "        if images == f[k]:\n",
    "            oneimage = f[k][0]\n",
    "  "
   ]
  },
  {
   "cell_type": "code",
   "execution_count": 17,
   "id": "99324b11",
   "metadata": {},
   "outputs": [
    {
     "name": "stdout",
     "output_type": "stream",
     "text": [
      "Structure of .h5 file : ['images', 'labels']\n",
      "\n",
      "Dataset 'images':\n",
      "  Shape: (109914, 64, 64, 3)\n",
      "  Data type: uint8\n",
      "  First image shape: (64, 64, 3)\n",
      "  First image shape: (64, 64, 3)\n"
     ]
    },
    {
     "data": {
      "image/png": "[encoded data removed]",
      "text/plain": [
       "<Figure size 600x600 with 1 Axes>"
      ]
     },
     "metadata": {},
     "output_type": "display_data"
    }
   ],
   "source": [
    "with h5py.File(path_to_training_data,'r') as f:\n",
    "    print(f\"Structure of .h5 file : {list(f.keys())}\")\n",
    "    \n",
    "# Command 3: Read and display a specific dataset\n",
    "with h5py.File(path_to_training_data, 'r') as f:\n",
    "    dataset = f['images']  # Replace 'images' with the actual dataset name\n",
    "    print(f\"\\nDataset 'images':\")\n",
    "    print(f\"  Shape: {dataset.shape}\")\n",
    "    print(f\"  Data type: {dataset.dtype}\")\n",
    "    print(f\"  First image shape: {dataset[0].shape}\")\n",
    "    # Handle image display - transpose from CHW to HWC format\n",
    "    image = dataset[0]\n",
    "    if len(image.shape) == 3 and image.shape[0] == 3:  # CHW format\n",
    "        image = image.transpose(1, 2, 0)  # Convert to HWC\n",
    "    \n",
    "    plt.figure(figsize=(6, 6))\n",
    "    plt.imshow(image)\n",
    "    plt.title(\"First Image from Dataset\")\n",
    "    plt.axis('off')\n",
    "    plt.show()"
   ]
  }
 ],
 "metadata": {
  "kernelspec": {
   "display_name": "geo",
   "language": "python",
   "name": "python3"
  },
  "language_info": {
   "codemirror_mode": {
    "name": "ipython",
    "version": 3
   },
   "file_extension": ".py",
   "mimetype": "text/x-python",
   "name": "python",
   "nbconvert_exporter": "python",
   "pygments_lexer": "ipython3",
   "version": "3.12.9"
  }
 },
 "nbformat": 4,
 "nbformat_minor": 5
}
