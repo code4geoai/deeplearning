{
 "cells": [
  {
   "cell_type": "markdown",
   "id": "aadc1dd0",
   "metadata": {},
   "source": [
    "This is the pracctice 1 session of debiasing Facial Recognitation"
   ]
  },
  {
   "cell_type": "code",
   "execution_count": 12,
   "id": "12e06da2",
   "metadata": {},
   "outputs": [],
   "source": [
    "#1 Imports\n",
    "import os\n",
    "import random\n",
    "from pathlib import Path\n",
    "import numpy as np\n",
    "import ipywidgets as widgets\n",
    "from IPython.display import display\n",
    "import matplotlib.pyplot as plt \n",
    "\n",
    "import torch\n",
    "import torch.nn as nn\n",
    "import torch.optim as optim\n",
    "\n",
    "\n",
    "import mitdeeplearning as mdl\n",
    "import tqdm as tqdm"
   ]
  },
  {
   "cell_type": "code",
   "execution_count": 2,
   "id": "33af603f",
   "metadata": {},
   "outputs": [
    {
     "name": "stdout",
     "output_type": "stream",
     "text": [
      "Data already exists\n"
     ]
    }
   ],
   "source": [
    "# 2 Dataset Download\n",
    "CACHE_DIR = Path.cwd() /\".cache\"/\"mitdeeplearning\"\n",
    "CACHE_DIR.mkdir (parents= True, exist_ok= True)\n",
    "\n",
    "path_to_training_data = CACHE_DIR.joinpath(\"train_face.h5\")\n",
    "\n",
    "#Check to avoid re-downloading\n",
    "if path_to_training_data.is_file():\n",
    "    print(\"Data already exists\")\n",
    "else:\n",
    "    url = \"https://www.dropbox.com/s/hlz8atheyozp1yx/train_face.h5?dl=1\"\n",
    "    torch.hub.download_url_to_file(url,path_to_training_data)\n",
    "    print(\"Dowloading data to: {path_to_training_data} \")\n",
    "\n"
   ]
  },
  {
   "cell_type": "code",
   "execution_count": 3,
   "id": "89c7a107",
   "metadata": {},
   "outputs": [
    {
     "name": "stdout",
     "output_type": "stream",
     "text": [
      "Opening d:\\DL_Repos\\introtodeeplearning\\HayatLabs\\.cache\\mitdeeplearning\\train_face.h5\n",
      "Loading data into memory...\n"
     ]
    }
   ],
   "source": [
    "# 3A. DataLoader\n",
    "\n",
    "channels_last = False\n",
    "loader = mdl.lab2.TrainingDatasetLoader(path_to_training_data,channels_last=channels_last)\n",
    "\n",
    "images, labels = loader.get_batch(100)\n"
   ]
  },
  {
   "cell_type": "code",
   "execution_count": 5,
   "id": "300c0aa2",
   "metadata": {},
   "outputs": [
    {
     "name": "stdout",
     "output_type": "stream",
     "text": [
      "Datatype of image float32 and label: float32\n",
      "Size of training dataset: 109914\n",
      "Bach_size:100, Channels: 3, Height:64, Width:64\n"
     ]
    }
   ],
   "source": [
    "#3B Checking data size and dimensions\n",
    "print(f\"Datatype of image {images.dtype} and label: {labels.dtype}\")\n",
    "\n",
    "dataset_size = loader.get_train_size()\n",
    "print(f\"Size of training dataset: {dataset_size}\")\n",
    "\n",
    "B,C,H,W = images.shape\n",
    "print(f\"Bach_size:{B}, Channels: {C}, Height:{H}, Width:{W}\")\n"
   ]
  },
  {
   "cell_type": "code",
   "execution_count": 6,
   "id": "93825bd6",
   "metadata": {},
   "outputs": [
    {
     "name": "stdout",
     "output_type": "stream",
     "text": [
      "Shape of Labels: (100, 1) Shows that it is a 2-D Array having Rows: 100 and Columns: 1\n",
      "Faces (Where label =1) : (array([50, 51, 52, 53, 54, 55, 56, 57, 58, 59, 60, 61, 62, 63, 64, 65, 66,\n",
      "       67, 68, 69, 70, 71, 72, 73, 74, 75, 76, 77, 78, 79, 80, 81, 82, 83,\n",
      "       84, 85, 86, 87, 88, 89, 90, 91, 92, 93, 94, 95, 96, 97, 98, 99]), array([0, 0, 0, 0, 0, 0, 0, 0, 0, 0, 0, 0, 0, 0, 0, 0, 0, 0, 0, 0, 0, 0,\n",
      "       0, 0, 0, 0, 0, 0, 0, 0, 0, 0, 0, 0, 0, 0, 0, 0, 0, 0, 0, 0, 0, 0,\n",
      "       0, 0, 0, 0, 0, 0]))\n",
      "Selecting First array (Faces): [50 51 52 53 54 55 56 57 58 59 60 61 62 63 64 65 66 67 68 69 70 71 72 73\n",
      " 74 75 76 77 78 79 80 81 82 83 84 85 86 87 88 89 90 91 92 93 94 95 96 97\n",
      " 98 99]\n",
      "Selecting 2nd Array (non-faces):[ 0  1  2  3  4  5  6  7  8  9 10 11 12 13 14 15 16 17 18 19 20 21 22 23\n",
      " 24 25 26 27 28 29 30 31 32 33 34 35 36 37 38 39 40 41 42 43 44 45 46 47\n",
      " 48 49] \n"
     ]
    }
   ],
   "source": [
    "print(f\"Shape of Labels: {labels.shape} Shows that it is a {labels.ndim}-D Array having Rows: {labels.shape[0]} and Columns: {labels.shape[1]}\") \n",
    "\n",
    "face_lab = np.where(labels==1) # It will return the array in tuple form\n",
    "faces = face_lab[0] #slelecting the first element of the array\n",
    "\n",
    "not_face = np.where(labels==0)\n",
    "no_faces = not_face[0]\n",
    "print(f\"Faces (Where label =1) : {face_lab}\") # it prints a tupal of arrays\n",
    "\n",
    "print(f\"Selecting First array (Faces): {faces}\") # Printing the first element of the array\n",
    "print(f\"Selecting 2nd Array (non-faces):{no_faces} \") # Printing the 2nd element.\n"
   ]
  },
  {
   "cell_type": "markdown",
   "id": "afbafda2",
   "metadata": {},
   "source": [
    "# 4 Display of Dataset"
   ]
  },
  {
   "cell_type": "code",
   "execution_count": 7,
   "id": "aebce7b9",
   "metadata": {},
   "outputs": [
    {
     "data": {
      "application/vnd.jupyter.widget-view+json": {
       "model_id": "c1b743708d9c4a7184fd140f50303020",
       "version_major": 2,
       "version_minor": 0
      },
      "text/plain": [
       "interactive(children=(IntSlider(value=0, description='idx_face', max=49), IntSlider(value=0, description='idx_…"
      ]
     },
     "metadata": {},
     "output_type": "display_data"
    },
    {
     "data": {
      "text/plain": [
       "<function __main__.show_images(idx_face=0, idx_notface=0)>"
      ]
     },
     "execution_count": 7,
     "metadata": {},
     "output_type": "execute_result"
    }
   ],
   "source": [
    "def show_images(idx_face=0, idx_notface = 0):\n",
    "    face_img = images[np.where(labels==1)[0]].transpose(0,2,3,1)\n",
    "    notface_img = images[np.where(labels==0)[0]].transpose(0,2,3,1)\n",
    "\n",
    "    plt.figure(figsize=(5,5))\n",
    "    \n",
    "    plt.subplot(1,2,1)\n",
    "    plt.imshow(face_img[idx_face])\n",
    "    plt.title(\"faces\")\n",
    "    plt.grid(False)\n",
    "    \n",
    "    plt.subplot(1,2,2)\n",
    "    plt.imshow(notface_img[idx_notface])\n",
    "    plt.title(\"Not Face\")\n",
    "\n",
    "    plt.show()\n",
    "    \n",
    "\n",
    "widgets.interact(show_images, idx_face=(0,49), idx_notface=(0,49))\n",
    "\n"
   ]
  },
  {
   "cell_type": "markdown",
   "id": "87af75ac",
   "metadata": {},
   "source": [
    "# CNN for Facial Detection"
   ]
  },
  {
   "cell_type": "markdown",
   "id": "bbfa94be",
   "metadata": {},
   "source": [
    "\n",
    "# 🧠 Convolution Output Size Calculations\n",
    "\n",
    "We’ll use the standard 2D convolution formula for output dimensions:\n",
    "\n",
    "$\n",
    "\\text{Output Size} = \\left\\lfloor \\frac{\\text{Input Size} + 2 \\times \\text{Padding} - \\text{Kernel Size}}{\\text{Stride}} \\right\\rfloor + 1\n",
    "$\n",
    "\n",
    "---\n",
    "\n",
    "### 🔸 Layer 1\n",
    "\n",
    "**Input:** 64 × 64  \n",
    "**Kernel size:** 5  \n",
    "**Stride:** 2  \n",
    "**Padding:** 2  \n",
    "\n",
    "$\n",
    "\\text{Output} = \\left\\lfloor \\frac{64 + 2 \\times 2 - 5}{2} \\right\\rfloor + 1 = \\left\\lfloor \\frac{63}{2} \\right\\rfloor + 1 = \\left\\lfloor 31.5 \\right\\rfloor + 1 = 32\n",
    "$\n",
    "\n",
    "✅ **Output:** 32 × 32\n",
    "\n",
    "---\n",
    "\n",
    "### 🔸 Layer 2\n",
    "\n",
    "**Input:** 32 × 32  \n",
    "**Kernel size:** 5  \n",
    "**Stride:** 2  \n",
    "**Padding:** 2  \n",
    "\n",
    "$\n",
    "\\text{Output} = \\left\\lfloor \\frac{32 + 2 \\times 2 - 5}{2} \\right\\rfloor + 1 = \\left\\lfloor \\frac{31}{2} \\right\\rfloor + 1 = \\left\\lfloor 15.5 \\right\\rfloor + 1 = 16\n",
    "$\n",
    "\n",
    "✅ **Output:** 16 × 16\n",
    "\n",
    "---\n",
    "\n",
    "### 🔸 Layer 3\n",
    "\n",
    "**Input:** 16 × 16  \n",
    "**Kernel size:** 3  \n",
    "**Stride:** 2  \n",
    "**Padding:** 1  \n",
    "\n",
    "$\n",
    "\\text{Output} = \\left\\lfloor \\frac{16 + 2 \\times 1 - 3}{2} \\right\\rfloor + 1 = \\left\\lfloor \\frac{15}{2} \\right\\rfloor + 1 = \\left\\lfloor 7.5 \\right\\rfloor + 1 = 8\n",
    "$\n",
    "\n",
    "✅ **Output:** 8 × 8\n",
    "\n",
    "---\n",
    "\n",
    "### 🔸 Layer 4\n",
    "\n",
    "**Input:** 8 × 8  \n",
    "**Kernel size:** 3  \n",
    "**Stride:** 2  \n",
    "**Padding:** 1  \n",
    "\n",
    "$\n",
    "\\text{Output} = \\left\\lfloor \\frac{8 + 2 \\times 1 - 3}{2} \\right\\rfloor + 1 = \\left\\lfloor \\frac{7}{2} \\right\\rfloor + 1 = \\left\\lfloor 3.5 \\right\\rfloor + 1 = 4\n",
    "$\n",
    "\n",
    "✅ **Output:** 4 × 4\n",
    "\n",
    "---\n",
    "\n",
    "### 🔹 Flattened Size Before Linear Layer\n",
    "\n",
    "From the last feature map:\n",
    "\n",
    "- **Channels:** 6 × n_filters = 6 × 12 = 72  \n",
    "- **Height:** 4  \n",
    "- **Width:** 4  \n",
    "\n",
    "$\n",
    "\\text{Flattened Size} = 72 \\times 4 \\times 4 = 1152\n",
    "$\n",
    "\n",
    "✅ **Final flattened vector:** 1152-dimensional\n",
    "\n",
    "\n",
    "\n"
   ]
  },
  {
   "cell_type": "code",
   "execution_count": 8,
   "id": "908ad9fb",
   "metadata": {},
   "outputs": [
    {
     "name": "stdout",
     "output_type": "stream",
     "text": [
      "Sequential(\n",
      "  (0): ConvBlock(\n",
      "    (conv): Conv2d(3, 12, kernel_size=(5, 5), stride=(2, 2), padding=(2, 2))\n",
      "    (relu): ReLU(inplace=True)\n",
      "    (bn): BatchNorm2d(12, eps=1e-05, momentum=0.1, affine=True, track_running_stats=True)\n",
      "  )\n",
      "  (1): ConvBlock(\n",
      "    (conv): Conv2d(12, 24, kernel_size=(5, 5), stride=(2, 2), padding=(2, 2))\n",
      "    (relu): ReLU(inplace=True)\n",
      "    (bn): BatchNorm2d(24, eps=1e-05, momentum=0.1, affine=True, track_running_stats=True)\n",
      "  )\n",
      "  (2): ConvBlock(\n",
      "    (conv): Conv2d(24, 48, kernel_size=(3, 3), stride=(2, 2), padding=(1, 1))\n",
      "    (relu): ReLU(inplace=True)\n",
      "    (bn): BatchNorm2d(48, eps=1e-05, momentum=0.1, affine=True, track_running_stats=True)\n",
      "  )\n",
      "  (3): ConvBlock(\n",
      "    (conv): Conv2d(48, 72, kernel_size=(3, 3), stride=(2, 2), padding=(1, 1))\n",
      "    (relu): ReLU(inplace=True)\n",
      "    (bn): BatchNorm2d(72, eps=1e-05, momentum=0.1, affine=True, track_running_stats=True)\n",
      "  )\n",
      "  (4): Flatten(start_dim=1, end_dim=-1)\n",
      "  (5): Linear(in_features=1152, out_features=512, bias=True)\n",
      "  (6): ReLU(inplace=True)\n",
      "  (7): Linear(in_features=512, out_features=1, bias=True)\n",
      ")\n"
     ]
    }
   ],
   "source": [
    "# 4 Define CNN\n",
    "n_filters = 12\n",
    "in_channels = images.shape[1]\n",
    "\n",
    "def make_standard_classifier(n_outputs):\n",
    "    class ConvBlock(nn.Module):\n",
    "        def __init__(self,in_channels,out_channels,kernel_size,stride,padding=0):\n",
    "            super(). __init__()\n",
    "            self.conv = nn.Conv2d(in_channels,out_channels,kernel_size,stride,padding)\n",
    "            self.relu = nn.ReLU(inplace=True)\n",
    "            self.bn = nn.BatchNorm2d(out_channels)\n",
    "        \n",
    "        def forward(self,x):\n",
    "            x = self.conv(x)\n",
    "            x = self.relu(x)\n",
    "            x = self.bn(x)\n",
    "\n",
    "            return x\n",
    "        \n",
    "    model = nn.Sequential(\n",
    "        ConvBlock(in_channels,n_filters,kernel_size = 5, padding = 2,stride = 2),\n",
    "        ConvBlock(n_filters, 2* n_filters, kernel_size=5, stride=2, padding=2),\n",
    "        ConvBlock(2*n_filters, 4*n_filters,kernel_size=3, stride =2,padding=1),\n",
    "        ConvBlock(4*n_filters,6*n_filters, kernel_size=3, stride=2, padding=1),\n",
    "        # Based on the calculation shown abvoe 4*4 * 6 *12 (where 12= n_filters)\n",
    "        nn.Flatten(),\n",
    "        nn.Linear(4*4*6*n_filters ,512),\n",
    "        nn.ReLU(inplace=True),\n",
    "        nn.Linear(512,n_outputs),\n",
    "        )\n",
    "    return model.to('cuda')\n",
    "\n",
    "# call the function to inistantiate a classifier model\n",
    "standard_classifier = make_standard_classifier(n_outputs=1)\n",
    "print(standard_classifier) \n"
   ]
  },
  {
   "cell_type": "markdown",
   "id": "011aeb34",
   "metadata": {},
   "source": [
    "## Parameters Setting"
   ]
  },
  {
   "cell_type": "code",
   "execution_count": 10,
   "id": "8a40808e",
   "metadata": {},
   "outputs": [],
   "source": [
    "#5 Setting Parameters \n",
    "params = dict ( \n",
    "    batch_size=32,\n",
    "    num_epochs = 2,\n",
    "    learning_rate = 5e-4,\n",
    ")\n",
    "loss_fn = nn.BCEWithLogitsLoss()\n",
    "optimizer = optim.Adam(standard_classifier.parameters(),lr = params['learning_rate'])\n",
    "\n",
    "loss_history = mdl.util.LossHistory(smoothing_factor=0.99)\n",
    "plotter = mdl.util.PeriodicPlotter(sec=2, scale='semilogy')"
   ]
  },
  {
   "cell_type": "markdown",
   "id": "d1212660",
   "metadata": {},
   "source": [
    " ## 1. nn.CrossEntropyLoss()\n",
    "✅ Use for:\n",
    "Multi-class classification (e.g., 10 classes like MNIST)\n",
    "\n",
    "🔢 Inputs:\n",
    "input: raw logits (shape [B, C], where C is the number of classes)\n",
    "\n",
    "target: integer class labels (shape [B], each value is 0 to C-1)\n",
    "\n",
    "🧠 Internally:\n",
    "It does two things for you:\n",
    "\n",
    "Applies F.log_softmax() to the logits\n",
    "\n",
    "Computes negative log likelihood loss\n",
    "\n",
    "So you don’t need to apply softmax yourself!\n",
    "\n",
    "✅ Example:\n",
    "`\n",
    "logits = model(x)              # shape [B, C]\n",
    "loss = nn.CrossEntropyLoss()(logits, labels)  # labels: [B] integers\n",
    "`\n",
    "## 2. nn.BCELoss()\n",
    "✅ Use for:\n",
    "Binary classification or multi-label classification (each class is independent)\n",
    "\n",
    "🔢 Inputs:\n",
    "input: probabilities between 0 and 1 (after applying sigmoid)\n",
    "\n",
    "target: floats in [0, 1] (shape [B] or [B, 1])\n",
    "\n",
    "⚠️ Caution:\n",
    "You must apply sigmoid() to the model output before using this loss.\n",
    "\n",
    "✅ Example:\n",
    "`logits = model(x)\n",
    "probs = torch.sigmoid(logits)\n",
    "loss = nn.BCELoss()(probs, targets)  # targets: [B] or [B, 1]`\n",
    "## 3. nn.BCEWithLogitsLoss()\n",
    "✅ Use for:\n",
    "Same as BCELoss, but more numerically stable.\n",
    "\n",
    "🔢 Inputs:\n",
    "input: raw logits (no sigmoid)\n",
    "\n",
    "target: floats in [0, 1] (same as BCELoss)\n",
    "\n",
    "🧠 Internally:\n",
    "Applies sigmoid + BCELoss in one step using a more stable formulation.\n",
    "\n",
    "✅ Preferred over BCELoss in almost all cases!\n",
    "\n",
    "✅ Example:\n",
    "`\n",
    "logits = model(x)\n",
    "\n",
    "loss = nn.BCEWithLogitsLoss()(logits, targets)  # targets: [B] or [B, 1]\n",
    "\n",
    "🧾 Summary Table\n",
    "\n",
    "Loss Function\tFor\tInput to Loss\tTarget Type\tApplies Sigmoid/Softmax?\n",
    "\n",
    "CrossEntropyLoss\tMulti-class\tLogits [B, C]\tClass indices [B]\t✅ Softmax (internal)\n",
    "\n",
    "BCELoss\tBinary / Multi-label\tProbabilities [B]\t0/1 floats [B]\t❌ You apply sigmoid\n",
    "\n",
    "BCEWithLogitsLoss\tBinary / Multi-label\tLogits [B]\t0/1 floats [B]\t✅ Sigmoid (internal)\n",
    "`\n",
    "\n",
    "\n",
    "# ⚠️ Common Mistake:\n",
    "Using BCELoss without sigmoid, or using BCEWithLogitsLoss with sigmoid applied manually — leads to incorrect gradients!"
   ]
  },
  {
   "cell_type": "markdown",
   "id": "3bffd753",
   "metadata": {},
   "source": [
    "\n",
    "## 📘 Summary: Mathematical Nature of Key DL Functions\n",
    "\n",
    "| Function | Type | Mathematical Definition | Notes |\n",
    "|----------|------|--------------------------|-------|\n",
    "| **Softmax** | Activation (multi-class) | $ \\text{Softmax}(z_i) = \\frac{e^{z_i}}{\\sum_j e^{z_j}} $ | Outputs class probabilities that sum to 1 |\n",
    "| **Sigmoid** | Activation (binary/multi-label) | $ \\sigma(x) = \\frac{1}{1 + e^{-x}} $ | S-shaped curve, outputs between 0 and 1 |\n",
    "| **ReLU** | Activation (hidden layers) | $ \\text{ReLU}(x) = \\max(0, x) $ | Keeps positives, zeros out negatives |\n",
    "| **Adam** | Optimizer | $ m_t = \\beta_1 m_{t-1} + (1 - \\beta_1) g_t  \\\\  v_t = \\beta_2 v_{t-1} + (1 - \\beta_2) g_t^2  \\\\  \\theta_t = \\theta_{t-1} - \\alpha \\cdot \\frac{\\hat{m}_t}{\\sqrt{\\hat{v}_t} + \\epsilon} $ | Adaptive learning rate optimizer |\n"
   ]
  },
  {
   "cell_type": "markdown",
   "id": "f187f665",
   "metadata": {},
   "source": [
    "## Lets Train the Dragon (CNN)!"
   ]
  },
  {
   "cell_type": "code",
   "execution_count": 20,
   "id": "0e433bae",
   "metadata": {},
   "outputs": [
    {
     "data": {
      "image/png": "[encoded data removed]",
      "text/plain": [
       "<Figure size 640x480 with 1 Axes>"
      ]
     },
     "metadata": {},
     "output_type": "display_data"
    },
    {
     "data": {
      "image/png": "[encoded data removed]",
      "text/plain": [
       "<Figure size 640x480 with 1 Axes>"
      ]
     },
     "metadata": {},
     "output_type": "display_data"
    }
   ],
   "source": [
    "# 6 Training \n",
    "\n",
    "if hasattr(tqdm, '._instances'):\n",
    "    tqdm._instances.clear()\n",
    "    \n",
    "standard_classifier.train()\n",
    "\n",
    "def standard_train_step(x,y):\n",
    "    x = torch.from_numpy(x).float().to('cuda')\n",
    "    y = torch.from_numpy(y).float().to('cuda')\n",
    "\n",
    "    #Clear the gradient\n",
    "    optimizer.zero_grad()\n",
    "\n",
    "    #feed the images\n",
    "    logits = standard_classifier(x)\n",
    "\n",
    "    # Compute the loss\n",
    "    loss = loss_fn(logits,y)\n",
    "\n",
    "    # backward propogation\n",
    "    loss.backward()\n",
    "    optimizer.step()\n",
    "    return loss \n",
    "\n",
    "# Training Loop\n",
    "for epoch in range(params['num_epochs']):\n",
    "    for idx in (range (loader.get_train_size() // params['batch_size'])):\n",
    "        # grab a batch and propogate through the network\n",
    "        x,y = loader.get_batch(params['batch_size'])\n",
    "        loss = standard_train_step(x,y)\n",
    "        loss_value = loss.detach().cpu().numpy()\n",
    "\n",
    "        #Record the loss and plot\n",
    "        loss_history.append(loss_value)\n",
    "        plotter.plot(loss_history.get())\n",
    "\n"
   ]
  }
 ],
 "metadata": {
  "kernelspec": {
   "display_name": "geo",
   "language": "python",
   "name": "python3"
  },
  "language_info": {
   "codemirror_mode": {
    "name": "ipython",
    "version": 3
   },
   "file_extension": ".py",
   "mimetype": "text/x-python",
   "name": "python",
   "nbconvert_exporter": "python",
   "pygments_lexer": "ipython3",
   "version": "3.12.9"
  }
 },
 "nbformat": 4,
 "nbformat_minor": 5
}
