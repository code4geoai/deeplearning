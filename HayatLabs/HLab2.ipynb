{
 "cells": [
  {
   "cell_type": "markdown",
   "id": "4d6888ef",
   "metadata": {},
   "source": [
    "# Introuduction:\n",
    "This is the lab-2 introducing the basic version of a Deep Learning Model implenentation in pytorch."
   ]
  },
  {
   "cell_type": "markdown",
   "id": "856aad4e",
   "metadata": {},
   "source": [
    "# Class Inheritence\n",
    "This section introduces the basic strucure of class inheritance which we will follow in pytorch for inheriting our classes from torch.nn.Modules."
   ]
  },
  {
   "cell_type": "code",
   "execution_count": null,
   "id": "db337913",
   "metadata": {},
   "outputs": [
    {
     "name": "stdout",
     "output_type": "stream",
     "text": [
      "Constructor of Parent Class\n",
      "Constructor of Child Class\n"
     ]
    }
   ],
   "source": [
    "class parent ():\n",
    "    def __init__(self):\n",
    "        print(\"Constructor of Parent Class\")\n",
    "class child(parent):\n",
    "    def __init__(self):\n",
    "        super().__init__()\n",
    "        print(\"Constructor of Child Class\")\n",
    "\n",
    "obj = child()\n"
   ]
  },
  {
   "cell_type": "markdown",
   "id": "554185a6",
   "metadata": {},
   "source": [
    "Now Lets define a DenseLayer class"
   ]
  },
  {
   "cell_type": "code",
   "execution_count": 5,
   "id": "a2f690a6",
   "metadata": {},
   "outputs": [],
   "source": [
    "import torch\n",
    "import torch.nn as nn"
   ]
  },
  {
   "cell_type": "code",
   "execution_count": null,
   "id": "8005edf9",
   "metadata": {},
   "outputs": [],
   "source": [
    "\n",
    "class ourDenseLayer(torch.nn.Module):\n",
    "    def __init__(self,num_input,num_output):\n",
    "        super(ourDenseLayer, self).__init__()\n",
    "        self.w = torch.nn.Parameter(torch.rand(num_input,num_output))\n",
    "        self.bias = torch.nn.Parameter(torch.rand(num_output))\n",
    "    def forward(self,x):\n",
    "        z = torch.matmul(x, self.w) +self.bias\n",
    "        y = torch.sigmoid(z)\n",
    "        return y\n",
    "\n",
    "\n"
   ]
  },
  {
   "cell_type": "code",
   "execution_count": null,
   "id": "fb4d4652",
   "metadata": {},
   "outputs": [],
   "source": []
  }
 ],
 "metadata": {
  "kernelspec": {
   "display_name": "Python 3",
   "language": "python",
   "name": "python3"
  },
  "language_info": {
   "codemirror_mode": {
    "name": "ipython",
    "version": 3
   },
   "file_extension": ".py",
   "mimetype": "text/x-python",
   "name": "python",
   "nbconvert_exporter": "python",
   "pygments_lexer": "ipython3",
   "version": "3.12.11"
  }
 },
 "nbformat": 4,
 "nbformat_minor": 5
}
