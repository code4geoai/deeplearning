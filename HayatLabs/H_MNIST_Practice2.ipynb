{
 "cells": [
  {
   "cell_type": "markdown",
   "id": "578df95c",
   "metadata": {},
   "source": [
    "# Practice Session 2\n",
    "This is the first time i am accessing my GPU remotely through VS Code SSH."
   ]
  },
  {
   "cell_type": "code",
   "execution_count": 9,
   "id": "86643353",
   "metadata": {},
   "outputs": [],
   "source": [
    "#1 Import\n",
    "import torch\n",
    "import torch.nn as nn\n",
    "import torchvision\n",
    "from torchvision import datasets        #check \n",
    "from torch.utils.data import DataLoader  # Check\n",
    "\n",
    "from torchvision import transforms  \n",
    "import torch.optim as optim\n",
    "\n",
    "\n",
    "import numpy as np\n",
    "import tqdm as tqdm\n",
    "from matplotlib import pylab as plt\n",
    "import mitdeeplearning as mdl"
   ]
  },
  {
   "cell_type": "code",
   "execution_count": 3,
   "id": "589e873b",
   "metadata": {},
   "outputs": [],
   "source": [
    "#2 Download MNIST Dataset\n",
    "trans = transforms.Compose([transforms.ToTensor(),])\n",
    "traindataset = datasets.MNIST(root = './data' , download=True, train=True, transform=trans)\n",
    "testdataset = datasets.MNIST( root = './data' , download = True, train = False, transform = trans)\n"
   ]
  },
  {
   "cell_type": "code",
   "execution_count": 4,
   "id": "5a452e98",
   "metadata": {},
   "outputs": [
    {
     "name": "stdout",
     "output_type": "stream",
     "text": [
      "image Shape: <built-in method size of Tensor object at 0x000001F2BC69E670>, label : 5\n"
     ]
    }
   ],
   "source": [
    "#3 Display Data\n",
    "\n",
    "image, label = traindataset[0]\n",
    "print(f\"image Shape: {image.size}, label : {label}\")\n"
   ]
  },
  {
   "cell_type": "code",
   "execution_count": 5,
   "id": "44b3adba",
   "metadata": {},
   "outputs": [],
   "source": [
    "#4 CNN\n",
    "\n",
    "class CNN(nn.Module):\n",
    "    def __init__(self):\n",
    "        super(). __init__()\n",
    "        self.conv1 = nn.Conv2d(1,32,kernel_size=3)\n",
    "        self.max1 = nn.MaxPool2d(2)\n",
    "        self.conv2 = nn.Conv2d(32,64,kernel_size=3)\n",
    "        self.max2 = nn.MaxPool2d(2)\n",
    "\n",
    "\n",
    "        self.flatten = nn.Flatten()\n",
    "        self.fc1 = nn.Linear(64*5*5, 128)\n",
    "        self.relu = nn.ReLU()\n",
    "        self.fc2 = nn.Linear(128,10)\n",
    "\n",
    "\n",
    "        # forwardpass\n",
    "    def forward(self,x):\n",
    "        #         \n",
    "        x = self.conv1(x)\n",
    "        x = self.relu(x)\n",
    "        x = self.max1(x)\n",
    "\n",
    "        x = self.conv2(x)\n",
    "        x = self.relu(x)\n",
    "        x = self.max2(x)\n",
    "\n",
    "        x = self.flatten(x)\n",
    "        x = self.fc1(x)\n",
    "        x = self.relu(x)\n",
    "        x = self.fc2(x)\n",
    "        \n",
    "        return x\n"
   ]
  },
  {
   "cell_type": "code",
   "execution_count": null,
   "id": "6393fde3",
   "metadata": {},
   "outputs": [
    {
     "name": "stdout",
     "output_type": "stream",
     "text": [
      "CNN(\n",
      "  (conv1): Conv2d(1, 32, kernel_size=(3, 3), stride=(1, 1))\n",
      "  (max1): MaxPool2d(kernel_size=2, stride=2, padding=0, dilation=1, ceil_mode=False)\n",
      "  (conv2): Conv2d(32, 64, kernel_size=(3, 3), stride=(1, 1))\n",
      "  (max2): MaxPool2d(kernel_size=2, stride=2, padding=0, dilation=1, ceil_mode=False)\n",
      "  (flatten): Flatten(start_dim=1, end_dim=-1)\n",
      "  (fc1): Linear(in_features=1600, out_features=128, bias=True)\n",
      "  (relu): ReLU()\n",
      "  (fc2): Linear(in_features=128, out_features=10, bias=True)\n",
      ")\n"
     ]
    }
   ],
   "source": [
    "# CNN instance inititation\n",
    "cnn_model = CNN().to('cuda') # Run on GPU\n",
    "image,label = traindataset[0]\n",
    "image = image.to('cuda').unsqueeze(0)  # Add batch dimension and move to GPU\n",
    "cnn_model(image)\n",
    "print(cnn_model)"
   ]
  },
  {
   "cell_type": "code",
   "execution_count": 15,
   "id": "6a1e78dc",
   "metadata": {},
   "outputs": [],
   "source": [
    "#6 CNN Parameters\n",
    "epoch=64\n",
    "batch_size =2\n",
    "learning_rate = 1e-2\n",
    "\n",
    "if hasattr(tqdm,'_instances'):\n",
    "    tqdm.instances.clear()\n",
    "\n",
    "trainloader = DataLoader(traindataset, batch_size=batch_size,shuffle=True)\n",
    "testloader = DataLoader(testdataset, batch_size=batch_size,shuffle=True)\n",
    "\n",
    "\n",
    "loss_function = nn.CrossEntropyLoss()\n",
    "optimizer = optim.SGD(cnn_model.parameters(),lr=learning_rate)\n",
    "\n",
    "loss_history = mdl.util.LossHistory(smoothing_factor = 0.95)\n",
    "plotter = mdl.util.PeriodicPlotter(sec = 2, xlabel= 'iterations', ylabel='loss')"
   ]
  },
  {
   "cell_type": "code",
   "execution_count": null,
   "id": "ea9879da",
   "metadata": {},
   "outputs": [],
   "source": [
    "#7 Training Loop\n",
    "cnn_model.train()\n",
    "for epoche in range(epoch):\n",
    "    total_loss = 0\n",
    "    total_pred = 0\n",
    "    corrt_pred = 0\n",
    "    for idx,(image,label) in enumerate (trainloader):\n",
    "        image = image.to('cuda').unsqueeze(0)\n",
    "        label = label.to('cuda')\n",
    "\n",
    "              \n",
    "\n",
    "        #forwardpass\n",
    "        output = cnn_model(image)\n",
    "\n",
    "        #loss \n",
    "        loss = loss_function(output,label)\n",
    "        loss_value = loss.item()\n",
    "        loss_history.append(loss_value)\n",
    "        plotter.plot(loss_history.get())\n",
    "\n",
    "        #backward pass\n",
    "        optimizer.zero_grad()\n",
    "        loss.backward()\n",
    "\n",
    "        #update parameters\n",
    "        optimizer.step()\n",
    "\n",
    "        #Get Predictions and calculate accuracy\n",
    "        pred = torch.argmax(output,dim=1)\n",
    "        corrt_pred += (pred == label).sum().item()\n",
    "        total_pred += label.size(0) \n",
    "\n",
    "    #calculate the accuracy for each epoch\n",
    "    total_epoc_loss = total_loss / total_pred\n",
    "\n",
    "\n"
   ]
  }
 ],
 "metadata": {
  "kernelspec": {
   "display_name": "geo",
   "language": "python",
   "name": "python3"
  },
  "language_info": {
   "codemirror_mode": {
    "name": "ipython",
    "version": 3
   },
   "file_extension": ".py",
   "mimetype": "text/x-python",
   "name": "python",
   "nbconvert_exporter": "python",
   "pygments_lexer": "ipython3",
   "version": "3.12.9"
  }
 },
 "nbformat": 4,
 "nbformat_minor": 5
}
